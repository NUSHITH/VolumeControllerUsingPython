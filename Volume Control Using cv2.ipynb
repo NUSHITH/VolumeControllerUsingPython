{
 "cells": [
  {
   "cell_type": "code",
   "execution_count": 1,
   "id": "db0b6ef1-0d84-4796-b486-e03ab66631fb",
   "metadata": {},
   "outputs": [],
   "source": [
    "import cv2\n",
    "import time\n",
    "from ctypes import cast, POINTER\n",
    "from comtypes import CLSCTX_ALL\n",
    "import numpy as np"
   ]
  },
  {
   "cell_type": "code",
   "execution_count": 2,
   "id": "99d66610-25f8-4f98-9690-887dd407253a",
   "metadata": {},
   "outputs": [],
   "source": [
    "from cvzone.HandTrackingModule import HandDetector"
   ]
  },
  {
   "cell_type": "code",
   "execution_count": 3,
   "id": "e1696143-37b0-48e4-8c0f-c6dbbc07102b",
   "metadata": {},
   "outputs": [],
   "source": [
    "from pycaw.pycaw import AudioUtilities , IAudioEndpointVolume"
   ]
  },
  {
   "cell_type": "code",
   "execution_count": 4,
   "id": "4a68c38e-a6e5-49c0-95b6-69a4f00e3384",
   "metadata": {},
   "outputs": [],
   "source": [
    "cap = cv2.VideoCapture(0)"
   ]
  },
  {
   "cell_type": "code",
   "execution_count": 5,
   "id": "4fc5302b-3154-4da9-8a54-c9f734ca6840",
   "metadata": {},
   "outputs": [
    {
     "data": {
      "text/plain": [
       "True"
      ]
     },
     "execution_count": 5,
     "metadata": {},
     "output_type": "execute_result"
    }
   ],
   "source": [
    "detector = HandDetector(detectionCon=0.8,maxHands=1)\n",
    "cap.set(3,1280)\n",
    "cap.set(4,720)"
   ]
  },
  {
   "cell_type": "code",
   "execution_count": 6,
   "id": "1ad87173-9831-4e9c-9097-69f5ca35e733",
   "metadata": {},
   "outputs": [
    {
     "name": "stderr",
     "output_type": "stream",
     "text": [
      "C:\\Users\\Aitha Nushith\\AppData\\Roaming\\Python\\Python312\\site-packages\\google\\protobuf\\symbol_database.py:55: UserWarning: SymbolDatabase.GetPrototype() is deprecated. Please use message_factory.GetMessageClass() instead. SymbolDatabase.GetPrototype() will be removed soon.\n",
      "  warnings.warn('SymbolDatabase.GetPrototype() is deprecated. Please '\n"
     ]
    }
   ],
   "source": [
    "previous_time = 0\n",
    "cap = cv2.VideoCapture(0)\n",
    "devices = AudioUtilities.GetSpeakers()\n",
    "interface = devices.Activate(IAudioEndpointVolume._iid_, CLSCTX_ALL, None)\n",
    "volume = cast(interface, POINTER(IAudioEndpointVolume))\n",
    "volume_range = volume.GetVolumeRange()\n",
    "min_volume = volume_range[0]\n",
    "max_volume = volume_range[1]\n",
    "volume.SetMasterVolumeLevel(0, None)\n",
    "vol=0\n",
    "while True:\n",
    "    status, photo = cap.read()\n",
    "    hands, photo = detector.findHands(photo)\n",
    "    current_time = time.time()\n",
    "    fps = 1 / (current_time - previous_time)\n",
    "    previous_time = current_time\n",
    "    cv2.putText(photo, f'FPS : {int(fps)}', (40, 70), cv2.FONT_HERSHEY_COMPLEX, 3, (50, 50, 50), 3)\n",
    "    if len(hands) != 0:\n",
    "        lmList = hands[0]['lmList']\n",
    "        length, info, photo = detector.findDistance(lmList[4][:2], lmList[8][:2], photo)\n",
    "        x1, y1 = lmList[4][1], lmList[4][2]\n",
    "        x2, y2 = lmList[8][1], lmList[8][2]\n",
    "        cv2.circle(photo, (x1, y1), 30, (50, 50, 50), cv2.FILLED)\n",
    "        cv2.circle(photo, (x2, y2), 30, (50, 50, 50), cv2.FILLED)\n",
    "        vol = np.interp(length, [50, 300], [min_volume, max_volume])\n",
    "        volume.SetMasterVolumeLevel(vol, None)\n",
    "    cv2.rectangle(photo, (50, 150), (85, 400), (0, 50, 0), 3)\n",
    "    cv2.rectangle(photo, (50, int(np.interp(vol, [min_volume, max_volume], [400, 150]))), (85, 400), (0, 50, 0), cv2.FILLED)\n",
    "    if len(hands) != 0 and length < 50:\n",
    "        cv2.circle(photo, (x1, y1), 30, (0, 255, 0), cv2.FILLED)\n",
    "    \n",
    "    cv2.imshow(\"myphoto\", photo)\n",
    "    if cv2.waitKey(1) & 0xFF == 13:  # Exit loop on Enter key\n",
    "        break\n",
    "\n",
    "cap.release()\n",
    "cv2.destroyAllWindows()"
   ]
  },
  {
   "cell_type": "code",
   "execution_count": 7,
   "id": "c36ccbca-9901-4714-bb84-b3c2953b50b1",
   "metadata": {},
   "outputs": [],
   "source": [
    "cap.release()"
   ]
  },
  {
   "cell_type": "code",
   "execution_count": null,
   "id": "3f1484ad-408c-4cd2-b7b5-4a81e1bccee8",
   "metadata": {},
   "outputs": [],
   "source": []
  }
 ],
 "metadata": {
  "kernelspec": {
   "display_name": "Python 3 (ipykernel)",
   "language": "python",
   "name": "python3"
  },
  "language_info": {
   "codemirror_mode": {
    "name": "ipython",
    "version": 3
   },
   "file_extension": ".py",
   "mimetype": "text/x-python",
   "name": "python",
   "nbconvert_exporter": "python",
   "pygments_lexer": "ipython3",
   "version": "3.12.4"
  }
 },
 "nbformat": 4,
 "nbformat_minor": 5
}
